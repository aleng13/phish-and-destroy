{
  "cells": [
    {
      "cell_type": "markdown",
      "metadata": {
        "id": "view-in-github",
        "colab_type": "text"
      },
      "source": [
        "<a href=\"https://colab.research.google.com/github/aleng13/phish-and-destroy/blob/main/Phishing.ipynb\" target=\"_parent\"><img src=\"https://colab.research.google.com/assets/colab-badge.svg\" alt=\"Open In Colab\"/></a>"
      ]
    },
    {
      "cell_type": "markdown",
      "source": [
        "# **Initial Configuration**"
      ],
      "metadata": {
        "id": "545o6jG6skdC"
      }
    },
    {
      "cell_type": "code",
      "execution_count": 5,
      "metadata": {
        "id": "B2gcBOqW9cUK"
      },
      "outputs": [],
      "source": [
        "#Install the Kaggle API client\n",
        "!pip install -q kaggle"
      ]
    },
    {
      "cell_type": "code",
      "execution_count": 6,
      "metadata": {
        "id": "-0362gGD9os3"
      },
      "outputs": [],
      "source": [
        "#Move the kaggle.json file to the correct directory\n",
        "!mkdir -p ~/.kaggle\n",
        "!mv kaggle.json ~/.kaggle/\n",
        "!chmod 600 ~/.kaggle/kaggle.json"
      ]
    },
    {
      "cell_type": "code",
      "execution_count": 7,
      "metadata": {
        "colab": {
          "base_uri": "https://localhost:8080/"
        },
        "id": "iYp_Tzha9wqm",
        "outputId": "f3f9a93d-12bc-4eaf-f679-552e94f8d237"
      },
      "outputs": [
        {
          "output_type": "stream",
          "name": "stdout",
          "text": [
            "Dataset URL: https://www.kaggle.com/datasets/naserabdullahalam/phishing-email-dataset\n",
            "License(s): CC-BY-SA-4.0\n",
            "Downloading phishing-email-dataset.zip to /content\n",
            "  0% 0.00/77.1M [00:00<?, ?B/s]\n",
            "100% 77.1M/77.1M [00:00<00:00, 1.12GB/s]\n"
          ]
        }
      ],
      "source": [
        "#You can download the dataset directly. In a new code cell, run\n",
        "!kaggle datasets download naserabdullahalam/phishing-email-dataset"
      ]
    },
    {
      "cell_type": "code",
      "execution_count": 8,
      "metadata": {
        "colab": {
          "base_uri": "https://localhost:8080/"
        },
        "id": "wTU_liKa95NR",
        "outputId": "186c9215-6c1e-4f3e-cf77-fe5767b263b2"
      },
      "outputs": [
        {
          "output_type": "stream",
          "name": "stdout",
          "text": [
            "Archive:  phishing-email-dataset.zip\n",
            "  inflating: CEAS_08.csv             \n",
            "  inflating: Enron.csv               \n",
            "  inflating: Ling.csv                \n",
            "  inflating: Nazario.csv             \n",
            "  inflating: Nigerian_Fraud.csv      \n",
            "  inflating: SpamAssasin.csv         \n",
            "  inflating: phishing_email.csv      \n"
          ]
        }
      ],
      "source": [
        "#To access the CSV file, you need to unzip the downloaded file\n",
        "!unzip phishing-email-dataset.zip"
      ]
    },
    {
      "cell_type": "code",
      "execution_count": 9,
      "metadata": {
        "colab": {
          "base_uri": "https://localhost:8080/"
        },
        "id": "wkgAzK-j-C_5",
        "outputId": "4afd0632-1178-4db5-c5d3-0c2c4e46d7e7"
      },
      "outputs": [
        {
          "output_type": "stream",
          "name": "stdout",
          "text": [
            "                                       text_combined  label\n",
            "0  hpl nom may 25 2001 see attached file hplno 52...      0\n",
            "1  nom actual vols 24 th forwarded sabrae zajac h...      0\n",
            "2  enron actuals march 30 april 1 201 estimated a...      0\n",
            "3  hpl nom may 30 2001 see attached file hplno 53...      0\n",
            "4  hpl nom june 1 2001 see attached file hplno 60...      0\n"
          ]
        }
      ],
      "source": [
        "import pandas as pd\n",
        "\n",
        "df = pd.read_csv('phishing_email.csv')\n",
        "\n",
        "# You can now inspect the first few rows of the DataFrame\n",
        "print(df.head())"
      ]
    },
    {
      "cell_type": "code",
      "execution_count": 10,
      "metadata": {
        "colab": {
          "base_uri": "https://localhost:8080/"
        },
        "id": "fEgHYJdS_WKp",
        "outputId": "92619f4a-b01d-4bc9-d3d6-0c3002365cc3"
      },
      "outputs": [
        {
          "output_type": "execute_result",
          "data": {
            "text/plain": [
              "Index(['text_combined', 'label'], dtype='object')"
            ]
          },
          "metadata": {},
          "execution_count": 10
        }
      ],
      "source": [
        "#Which column contains the label (like phishing or not_phishing or 0/1)?\n",
        "df.columns"
      ]
    },
    {
      "cell_type": "markdown",
      "source": [
        "# **Preprocessing the Dataset**"
      ],
      "metadata": {
        "id": "i452iHGNptfL"
      }
    },
    {
      "cell_type": "code",
      "execution_count": 11,
      "metadata": {
        "colab": {
          "base_uri": "https://localhost:8080/",
          "height": 241
        },
        "id": "1KvZYhx33s49",
        "outputId": "2831e30b-f3a8-48ec-9593-328f1e45e161"
      },
      "outputs": [
        {
          "output_type": "stream",
          "name": "stderr",
          "text": [
            "[nltk_data] Downloading package stopwords to /root/nltk_data...\n",
            "[nltk_data]   Unzipping corpora/stopwords.zip.\n"
          ]
        },
        {
          "output_type": "execute_result",
          "data": {
            "text/plain": [
              "                                       text_combined  \\\n",
              "0  hpl nom may 25 2001 see attached file hplno 52...   \n",
              "1  nom actual vols 24 th forwarded sabrae zajac h...   \n",
              "2  enron actuals march 30 april 1 201 estimated a...   \n",
              "3  hpl nom may 30 2001 see attached file hplno 53...   \n",
              "4  hpl nom june 1 2001 see attached file hplno 60...   \n",
              "\n",
              "                                        cleaned_text  \n",
              "0  hpl nom may see attached file hplno xls hplno xls  \n",
              "1  nom actual vols th forwarded sabrae zajac hou ...  \n",
              "2  enron actuals march april estimated actuals ma...  \n",
              "3  hpl nom may see attached file hplno xls hplno xls  \n",
              "4  hpl nom june see attached file hplno xls hplno...  "
            ],
            "text/html": [
              "\n",
              "  <div id=\"df-d4ff752a-6f67-487f-a913-0d3e8e8a2a0f\" class=\"colab-df-container\">\n",
              "    <div>\n",
              "<style scoped>\n",
              "    .dataframe tbody tr th:only-of-type {\n",
              "        vertical-align: middle;\n",
              "    }\n",
              "\n",
              "    .dataframe tbody tr th {\n",
              "        vertical-align: top;\n",
              "    }\n",
              "\n",
              "    .dataframe thead th {\n",
              "        text-align: right;\n",
              "    }\n",
              "</style>\n",
              "<table border=\"1\" class=\"dataframe\">\n",
              "  <thead>\n",
              "    <tr style=\"text-align: right;\">\n",
              "      <th></th>\n",
              "      <th>text_combined</th>\n",
              "      <th>cleaned_text</th>\n",
              "    </tr>\n",
              "  </thead>\n",
              "  <tbody>\n",
              "    <tr>\n",
              "      <th>0</th>\n",
              "      <td>hpl nom may 25 2001 see attached file hplno 52...</td>\n",
              "      <td>hpl nom may see attached file hplno xls hplno xls</td>\n",
              "    </tr>\n",
              "    <tr>\n",
              "      <th>1</th>\n",
              "      <td>nom actual vols 24 th forwarded sabrae zajac h...</td>\n",
              "      <td>nom actual vols th forwarded sabrae zajac hou ...</td>\n",
              "    </tr>\n",
              "    <tr>\n",
              "      <th>2</th>\n",
              "      <td>enron actuals march 30 april 1 201 estimated a...</td>\n",
              "      <td>enron actuals march april estimated actuals ma...</td>\n",
              "    </tr>\n",
              "    <tr>\n",
              "      <th>3</th>\n",
              "      <td>hpl nom may 30 2001 see attached file hplno 53...</td>\n",
              "      <td>hpl nom may see attached file hplno xls hplno xls</td>\n",
              "    </tr>\n",
              "    <tr>\n",
              "      <th>4</th>\n",
              "      <td>hpl nom june 1 2001 see attached file hplno 60...</td>\n",
              "      <td>hpl nom june see attached file hplno xls hplno...</td>\n",
              "    </tr>\n",
              "  </tbody>\n",
              "</table>\n",
              "</div>\n",
              "    <div class=\"colab-df-buttons\">\n",
              "\n",
              "  <div class=\"colab-df-container\">\n",
              "    <button class=\"colab-df-convert\" onclick=\"convertToInteractive('df-d4ff752a-6f67-487f-a913-0d3e8e8a2a0f')\"\n",
              "            title=\"Convert this dataframe to an interactive table.\"\n",
              "            style=\"display:none;\">\n",
              "\n",
              "  <svg xmlns=\"http://www.w3.org/2000/svg\" height=\"24px\" viewBox=\"0 -960 960 960\">\n",
              "    <path d=\"M120-120v-720h720v720H120Zm60-500h600v-160H180v160Zm220 220h160v-160H400v160Zm0 220h160v-160H400v160ZM180-400h160v-160H180v160Zm440 0h160v-160H620v160ZM180-180h160v-160H180v160Zm440 0h160v-160H620v160Z\"/>\n",
              "  </svg>\n",
              "    </button>\n",
              "\n",
              "  <style>\n",
              "    .colab-df-container {\n",
              "      display:flex;\n",
              "      gap: 12px;\n",
              "    }\n",
              "\n",
              "    .colab-df-convert {\n",
              "      background-color: #E8F0FE;\n",
              "      border: none;\n",
              "      border-radius: 50%;\n",
              "      cursor: pointer;\n",
              "      display: none;\n",
              "      fill: #1967D2;\n",
              "      height: 32px;\n",
              "      padding: 0 0 0 0;\n",
              "      width: 32px;\n",
              "    }\n",
              "\n",
              "    .colab-df-convert:hover {\n",
              "      background-color: #E2EBFA;\n",
              "      box-shadow: 0px 1px 2px rgba(60, 64, 67, 0.3), 0px 1px 3px 1px rgba(60, 64, 67, 0.15);\n",
              "      fill: #174EA6;\n",
              "    }\n",
              "\n",
              "    .colab-df-buttons div {\n",
              "      margin-bottom: 4px;\n",
              "    }\n",
              "\n",
              "    [theme=dark] .colab-df-convert {\n",
              "      background-color: #3B4455;\n",
              "      fill: #D2E3FC;\n",
              "    }\n",
              "\n",
              "    [theme=dark] .colab-df-convert:hover {\n",
              "      background-color: #434B5C;\n",
              "      box-shadow: 0px 1px 3px 1px rgba(0, 0, 0, 0.15);\n",
              "      filter: drop-shadow(0px 1px 2px rgba(0, 0, 0, 0.3));\n",
              "      fill: #FFFFFF;\n",
              "    }\n",
              "  </style>\n",
              "\n",
              "    <script>\n",
              "      const buttonEl =\n",
              "        document.querySelector('#df-d4ff752a-6f67-487f-a913-0d3e8e8a2a0f button.colab-df-convert');\n",
              "      buttonEl.style.display =\n",
              "        google.colab.kernel.accessAllowed ? 'block' : 'none';\n",
              "\n",
              "      async function convertToInteractive(key) {\n",
              "        const element = document.querySelector('#df-d4ff752a-6f67-487f-a913-0d3e8e8a2a0f');\n",
              "        const dataTable =\n",
              "          await google.colab.kernel.invokeFunction('convertToInteractive',\n",
              "                                                    [key], {});\n",
              "        if (!dataTable) return;\n",
              "\n",
              "        const docLinkHtml = 'Like what you see? Visit the ' +\n",
              "          '<a target=\"_blank\" href=https://colab.research.google.com/notebooks/data_table.ipynb>data table notebook</a>'\n",
              "          + ' to learn more about interactive tables.';\n",
              "        element.innerHTML = '';\n",
              "        dataTable['output_type'] = 'display_data';\n",
              "        await google.colab.output.renderOutput(dataTable, element);\n",
              "        const docLink = document.createElement('div');\n",
              "        docLink.innerHTML = docLinkHtml;\n",
              "        element.appendChild(docLink);\n",
              "      }\n",
              "    </script>\n",
              "  </div>\n",
              "\n",
              "\n",
              "    <div id=\"df-eeea59af-1831-4b0c-b970-f1813853bd64\">\n",
              "      <button class=\"colab-df-quickchart\" onclick=\"quickchart('df-eeea59af-1831-4b0c-b970-f1813853bd64')\"\n",
              "                title=\"Suggest charts\"\n",
              "                style=\"display:none;\">\n",
              "\n",
              "<svg xmlns=\"http://www.w3.org/2000/svg\" height=\"24px\"viewBox=\"0 0 24 24\"\n",
              "     width=\"24px\">\n",
              "    <g>\n",
              "        <path d=\"M19 3H5c-1.1 0-2 .9-2 2v14c0 1.1.9 2 2 2h14c1.1 0 2-.9 2-2V5c0-1.1-.9-2-2-2zM9 17H7v-7h2v7zm4 0h-2V7h2v10zm4 0h-2v-4h2v4z\"/>\n",
              "    </g>\n",
              "</svg>\n",
              "      </button>\n",
              "\n",
              "<style>\n",
              "  .colab-df-quickchart {\n",
              "      --bg-color: #E8F0FE;\n",
              "      --fill-color: #1967D2;\n",
              "      --hover-bg-color: #E2EBFA;\n",
              "      --hover-fill-color: #174EA6;\n",
              "      --disabled-fill-color: #AAA;\n",
              "      --disabled-bg-color: #DDD;\n",
              "  }\n",
              "\n",
              "  [theme=dark] .colab-df-quickchart {\n",
              "      --bg-color: #3B4455;\n",
              "      --fill-color: #D2E3FC;\n",
              "      --hover-bg-color: #434B5C;\n",
              "      --hover-fill-color: #FFFFFF;\n",
              "      --disabled-bg-color: #3B4455;\n",
              "      --disabled-fill-color: #666;\n",
              "  }\n",
              "\n",
              "  .colab-df-quickchart {\n",
              "    background-color: var(--bg-color);\n",
              "    border: none;\n",
              "    border-radius: 50%;\n",
              "    cursor: pointer;\n",
              "    display: none;\n",
              "    fill: var(--fill-color);\n",
              "    height: 32px;\n",
              "    padding: 0;\n",
              "    width: 32px;\n",
              "  }\n",
              "\n",
              "  .colab-df-quickchart:hover {\n",
              "    background-color: var(--hover-bg-color);\n",
              "    box-shadow: 0 1px 2px rgba(60, 64, 67, 0.3), 0 1px 3px 1px rgba(60, 64, 67, 0.15);\n",
              "    fill: var(--button-hover-fill-color);\n",
              "  }\n",
              "\n",
              "  .colab-df-quickchart-complete:disabled,\n",
              "  .colab-df-quickchart-complete:disabled:hover {\n",
              "    background-color: var(--disabled-bg-color);\n",
              "    fill: var(--disabled-fill-color);\n",
              "    box-shadow: none;\n",
              "  }\n",
              "\n",
              "  .colab-df-spinner {\n",
              "    border: 2px solid var(--fill-color);\n",
              "    border-color: transparent;\n",
              "    border-bottom-color: var(--fill-color);\n",
              "    animation:\n",
              "      spin 1s steps(1) infinite;\n",
              "  }\n",
              "\n",
              "  @keyframes spin {\n",
              "    0% {\n",
              "      border-color: transparent;\n",
              "      border-bottom-color: var(--fill-color);\n",
              "      border-left-color: var(--fill-color);\n",
              "    }\n",
              "    20% {\n",
              "      border-color: transparent;\n",
              "      border-left-color: var(--fill-color);\n",
              "      border-top-color: var(--fill-color);\n",
              "    }\n",
              "    30% {\n",
              "      border-color: transparent;\n",
              "      border-left-color: var(--fill-color);\n",
              "      border-top-color: var(--fill-color);\n",
              "      border-right-color: var(--fill-color);\n",
              "    }\n",
              "    40% {\n",
              "      border-color: transparent;\n",
              "      border-right-color: var(--fill-color);\n",
              "      border-top-color: var(--fill-color);\n",
              "    }\n",
              "    60% {\n",
              "      border-color: transparent;\n",
              "      border-right-color: var(--fill-color);\n",
              "    }\n",
              "    80% {\n",
              "      border-color: transparent;\n",
              "      border-right-color: var(--fill-color);\n",
              "      border-bottom-color: var(--fill-color);\n",
              "    }\n",
              "    90% {\n",
              "      border-color: transparent;\n",
              "      border-bottom-color: var(--fill-color);\n",
              "    }\n",
              "  }\n",
              "</style>\n",
              "\n",
              "      <script>\n",
              "        async function quickchart(key) {\n",
              "          const quickchartButtonEl =\n",
              "            document.querySelector('#' + key + ' button');\n",
              "          quickchartButtonEl.disabled = true;  // To prevent multiple clicks.\n",
              "          quickchartButtonEl.classList.add('colab-df-spinner');\n",
              "          try {\n",
              "            const charts = await google.colab.kernel.invokeFunction(\n",
              "                'suggestCharts', [key], {});\n",
              "          } catch (error) {\n",
              "            console.error('Error during call to suggestCharts:', error);\n",
              "          }\n",
              "          quickchartButtonEl.classList.remove('colab-df-spinner');\n",
              "          quickchartButtonEl.classList.add('colab-df-quickchart-complete');\n",
              "        }\n",
              "        (() => {\n",
              "          let quickchartButtonEl =\n",
              "            document.querySelector('#df-eeea59af-1831-4b0c-b970-f1813853bd64 button');\n",
              "          quickchartButtonEl.style.display =\n",
              "            google.colab.kernel.accessAllowed ? 'block' : 'none';\n",
              "        })();\n",
              "      </script>\n",
              "    </div>\n",
              "\n",
              "    </div>\n",
              "  </div>\n"
            ],
            "application/vnd.google.colaboratory.intrinsic+json": {
              "type": "dataframe",
              "summary": "{\n  \"name\": \"df[['text_combined', 'cleaned_text']]\",\n  \"rows\": 5,\n  \"fields\": [\n    {\n      \"column\": \"text_combined\",\n      \"properties\": {\n        \"dtype\": \"string\",\n        \"num_unique_values\": 5,\n        \"samples\": [\n          \"nom actual vols 24 th forwarded sabrae zajac hou ect 05 30 2001 12 07 pm enron capital trade resources corp eileen ponton 05 29 2001 08 37 davilal txu com cstonel txu com mjones 7 txu com hpl scheduling enron com liz bellamy enron com szajac enron com cc subject nom actual vols 24 th agree nomination 33 750 forwarded eileen ponton houston pefs pec 05 29 01 08 36 charlie stone eileen ponton melissa jones com hpl scheduling enron com liz bellamy enron com szajac enron com 05 25 01 subject nom actual vols 24 th 04 23 pm agree nominated volume records reflect following nom schedule 30 rate eff 0900 hrs hour beginning 1400 hrs 6 250 60 rate eff 1400 hrs hour beginning 1700 hrs 7 500 30 rate eff 1700 hrs hour beginning 0900 hrs 20 000 total nominated 33 750 please review source data let us know agree thanks ccs eileen ponton 05 25 2001 04 06 50 pm david avila lsp enserch us tu charlie stone energy txu tu melissa jones energy txu tu hpl scheduling enron com liz bellamy enron com szajac enron com cc subject nom actual vols 24 th nom mcf mmbtu 27 500 33 109 34 003\",\n          \"hpl nom june 1 2001 see attached file hplno 601 xls hplno 601 xls\",\n          \"enron actuals march 30 april 1 201 estimated actuals march 30 2001 flow march 31 2001 flow april 1 2001 teco tap 35 000 receive actuals duke forward\"\n        ],\n        \"semantic_type\": \"\",\n        \"description\": \"\"\n      }\n    },\n    {\n      \"column\": \"cleaned_text\",\n      \"properties\": {\n        \"dtype\": \"string\",\n        \"num_unique_values\": 4,\n        \"samples\": [\n          \"nom actual vols th forwarded sabrae zajac hou ect pm enron capital trade resources corp eileen ponton davilal txu com cstonel txu com mjones txu com hpl scheduling enron com liz bellamy enron com szajac enron com cc subject nom actual vols th agree nomination forwarded eileen ponton houston pefs pec charlie stone eileen ponton melissa jones com hpl scheduling enron com liz bellamy enron com szajac enron com subject nom actual vols th pm agree nominated volume records reflect following nom schedule rate eff hrs hour beginning hrs rate eff hrs hour beginning hrs rate eff hrs hour beginning hrs total nominated please review source data let us know agree thanks ccs eileen ponton pm david avila lsp enserch us tu charlie stone energy txu tu melissa jones energy txu tu hpl scheduling enron com liz bellamy enron com szajac enron com cc subject nom actual vols th nom mcf mmbtu\",\n          \"hpl nom june see attached file hplno xls hplno xls\",\n          \"hpl nom may see attached file hplno xls hplno xls\"\n        ],\n        \"semantic_type\": \"\",\n        \"description\": \"\"\n      }\n    }\n  ]\n}"
            }
          },
          "metadata": {},
          "execution_count": 11
        }
      ],
      "source": [
        "'''Preprocessing Steps:\n",
        "Lowercase the text\n",
        "\n",
        "Remove punctuation\n",
        "\n",
        "Remove stopwords (like “the”, “and”, etc.)\n",
        "\n",
        "Optional: remove numbers\n",
        "\n",
        "Tokenize and join the cleaned words back to text'''\n",
        "\n",
        "import re\n",
        "import pandas as pd\n",
        "import nltk\n",
        "import string\n",
        "from nltk.corpus import stopwords\n",
        "\n",
        "df = pd.read_csv('phishing_email.csv')\n",
        "\n",
        "# Download stopwords (only first time)\n",
        "nltk.download('stopwords')\n",
        "\n",
        "# Get English stopwords\n",
        "stop_words = set(stopwords.words('english'))\n",
        "\n",
        "# Define a text cleaning function\n",
        "def clean_text(text):\n",
        "    # Lowercase\n",
        "    text = text.lower()\n",
        "\n",
        "    # Remove URLs\n",
        "    text = re.sub(r'http\\S+|www\\S+|https\\S+', '', text)\n",
        "\n",
        "    # Remove punctuation\n",
        "    text = text.translate(str.maketrans('', '', string.punctuation))\n",
        "\n",
        "    # Remove numbers\n",
        "    text = re.sub(r'\\d+', '', text)\n",
        "\n",
        "    # Tokenize and remove stopwords\n",
        "    words = text.split()\n",
        "    words = [word for word in words if word not in stop_words]\n",
        "\n",
        "    # Rejoin text\n",
        "    cleaned_text = ' '.join(words)\n",
        "    return cleaned_text\n",
        "\n",
        "# Apply the cleaning function to your email text column\n",
        "df['cleaned_text'] = df['text_combined'].apply(clean_text)\n",
        "\n",
        "# Preview cleaned text\n",
        "df[['text_combined', 'cleaned_text']].head()\n"
      ]
    },
    {
      "cell_type": "markdown",
      "source": [
        "# **Vectorizing The Dataset**"
      ],
      "metadata": {
        "id": "k54-F0-epRtp"
      }
    },
    {
      "cell_type": "code",
      "execution_count": 12,
      "metadata": {
        "colab": {
          "base_uri": "https://localhost:8080/"
        },
        "id": "HHDnhPzx6bgh",
        "outputId": "032e6a21-6682-44d1-a179-445a53bdf62f"
      },
      "outputs": [
        {
          "output_type": "stream",
          "name": "stdout",
          "text": [
            "Shape of training data: (65988, 460787)\n",
            "Shape of test data: (16498, 460787)\n"
          ]
        }
      ],
      "source": [
        "''' Cleaned email text into a machine brain — but since machines don’t understand plain English, we need to vectorize it first.\n",
        "TfidfVectorizer() → turns text into a matrix of numbers.\n",
        "\n",
        "fit_transform() → learns vocab and transforms the cleaned text.\n",
        "\n",
        "train_test_split() → splits the data: 80% to train, 20% to test our model later.'''\n",
        "\n",
        "from sklearn.feature_extraction.text import TfidfVectorizer\n",
        "from sklearn.model_selection import train_test_split\n",
        "\n",
        "# Define the vectorizer\n",
        "vectorizer = TfidfVectorizer()\n",
        "\n",
        "# Fit and transform the cleaned text\n",
        "X = vectorizer.fit_transform(df['cleaned_text'])\n",
        "\n",
        "# Target labels (0 for safe, 1 for phishing)\n",
        "y = df['label']\n",
        "\n",
        "# Split into train and test sets (80% train, 20% test)\n",
        "X_train, X_test, y_train, y_test = train_test_split(X, y, test_size=0.2, random_state=42)\n",
        "\n",
        "print(\"Shape of training data:\", X_train.shape)\n",
        "print(\"Shape of test data:\", X_test.shape)\n"
      ]
    },
    {
      "cell_type": "markdown",
      "source": [
        "# **Logistic Regression**"
      ],
      "metadata": {
        "id": "JC6noughpbfQ"
      }
    },
    {
      "cell_type": "code",
      "execution_count": 13,
      "metadata": {
        "colab": {
          "base_uri": "https://localhost:8080/"
        },
        "id": "thHKLI2a7eDD",
        "outputId": "7a9f6278-fa12-4cab-b5ff-637efcda6132"
      },
      "outputs": [
        {
          "output_type": "stream",
          "name": "stdout",
          "text": [
            "Accuracy: 0.9846041944478119\n",
            "\n",
            "Classification Report:\n",
            "               precision    recall  f1-score   support\n",
            "\n",
            "           0       0.99      0.98      0.98      7935\n",
            "           1       0.98      0.99      0.99      8563\n",
            "\n",
            "    accuracy                           0.98     16498\n",
            "   macro avg       0.98      0.98      0.98     16498\n",
            "weighted avg       0.98      0.98      0.98     16498\n",
            "\n"
          ]
        }
      ],
      "source": [
        "'''We’ll train a Logistic Regression model\n",
        "\n",
        "LogisticRegression → great for binary classification (phish or not)\n",
        "\n",
        ".fit() → trains the model on your vectors + labels\n",
        "\n",
        ".predict() → uses the model to detect phishing in new emails\n",
        "\n",
        "classification_report → shows precision, recall, F1-score = how good your model is'''\n",
        "\n",
        "from sklearn.linear_model import LogisticRegression\n",
        "from sklearn.metrics import accuracy_score, classification_report\n",
        "\n",
        "# Initialize the model\n",
        "model = LogisticRegression(max_iter=1000)  # max_iter to make sure it converges\n",
        "\n",
        "# Train the model\n",
        "model.fit(X_train, y_train)\n",
        "\n",
        "# Predict on test set\n",
        "y_pred = model.predict(X_test)\n",
        "\n",
        "# Evaluate the model\n",
        "print(\"Accuracy:\", accuracy_score(y_test, y_pred))\n",
        "print(\"\\nClassification Report:\\n\", classification_report(y_test, y_pred))"
      ]
    },
    {
      "cell_type": "code",
      "source": [
        "'''Created a confusion matrix to visualize the model's performance.'''\n",
        "\n",
        "from sklearn.metrics import confusion_matrix\n",
        "import seaborn as sns\n",
        "import matplotlib.pyplot as plt\n",
        "\n",
        "# Generate the confusion matrix\n",
        "cm = confusion_matrix(y_test, y_pred)\n",
        "\n",
        "# Create a heatmap for better visualization\n",
        "plt.figure(figsize=(8, 6))\n",
        "sns.heatmap(cm, annot=True, fmt='d', cmap='Blues',\n",
        "            xticklabels=['Not Phishing', 'Phishing'],\n",
        "            yticklabels=['Not Phishing', 'Phishing'])\n",
        "plt.xlabel('Predicted')\n",
        "plt.ylabel('Actual')\n",
        "plt.title('Confusion Matrix')\n",
        "plt.show()\n",
        "\n",
        "print(\"\\nConfusion Matrix (raw counts):\\n\", cm)"
      ],
      "metadata": {
        "colab": {
          "base_uri": "https://localhost:8080/",
          "height": 633
        },
        "id": "9qVY0RRJui1e",
        "outputId": "8fb87c71-7972-47d0-ce61-414d1c5d8f77",
        "collapsed": true
      },
      "execution_count": 14,
      "outputs": [
        {
          "output_type": "display_data",
          "data": {
            "text/plain": [
              "<Figure size 800x600 with 2 Axes>"
            ],
            "image/png": "[encoded data removed]"
          },
          "metadata": {}
        },
        {
          "output_type": "stream",
          "name": "stdout",
          "text": [
            "\n",
            "Confusion Matrix (raw counts):\n",
            " [[7760  175]\n",
            " [  79 8484]]\n"
          ]
        }
      ]
    },
    {
      "cell_type": "markdown",
      "source": [
        "# **Trying to Improving the Accuracy**"
      ],
      "metadata": {
        "id": "fPIxkXnWpzVW"
      }
    },
    {
      "cell_type": "code",
      "source": [
        "'''analyzing the misclassified emails. Here's how we can identify them in your test set using the true labels (y_test) and the predicted labels (y_pred)'''\n",
        "\n",
        "import pandas as pd\n",
        "\n",
        "# Assuming your test set features are in X_test and original DataFrame is df\n",
        "# We need to get the original text corresponding to the test set indices\n",
        "\n",
        "# Create a DataFrame for the test set predictions\n",
        "predictions_df = pd.DataFrame({'actual': y_test, 'predicted': y_pred})\n",
        "\n",
        "# Get the indices of the test set from the original DataFrame\n",
        "test_indices = y_test.index\n",
        "\n",
        "# Create a new DataFrame containing the test set data (including original text)\n",
        "test_df = df.loc[test_indices]\n",
        "\n",
        "# Combine the predictions with the test set data\n",
        "misclassified_df = pd.concat([test_df.reset_index(drop=True), predictions_df.reset_index(drop=True)], axis=1)\n",
        "\n",
        "# Identify False Positives (actual=0, predicted=1)\n",
        "false_positives_df = misclassified_df[(misclassified_df['actual'] == 0) & (misclassified_df['predicted'] == 1)]\n",
        "print(\"\\nFalse Positives (Legitimate emails predicted as Phishing):\\n\")\n",
        "print(false_positives_df[['text_combined']].head())\n",
        "print(f\"\\nNumber of False Positives: {len(false_positives_df)}\")\n",
        "\n",
        "# Identify False Negatives (actual=1, predicted=0)\n",
        "false_negatives_df = misclassified_df[(misclassified_df['actual'] == 1) & (misclassified_df['predicted'] == 0)]\n",
        "print(\"\\nFalse Negatives (Phishing emails predicted as Legitimate):\\n\")\n",
        "print(false_negatives_df[['text_combined']].head())\n",
        "print(f\"\\nNumber of False Negatives: {len(false_negatives_df)}\")"
      ],
      "metadata": {
        "colab": {
          "base_uri": "https://localhost:8080/"
        },
        "id": "IDKfMZJyx5lf",
        "outputId": "36dbe826-0bd8-4812-8549-28d5061ebdf4"
      },
      "execution_count": 15,
      "outputs": [
        {
          "output_type": "stream",
          "name": "stdout",
          "text": [
            "\n",
            "False Positives (Legitimate emails predicted as Phishing):\n",
            "\n",
            "                                         text_combined\n",
            "48   mail delivery system auixdvasxzygmho02bosmailh...\n",
            "120  playgroup pictures houston cow parade easy uns...\n",
            "129  semantics il dominio tempoaspettuale il domini...\n",
            "260  hours contact information lisa maillet contact...\n",
            "313  fedmarket uiaregifedmarketcom federal sales tr...\n",
            "\n",
            "Number of False Positives: 175\n",
            "\n",
            "False Negatives (Phishing emails predicted as Legitimate):\n",
            "\n",
            "                                         text_combined\n",
            "153    tried calling last night missing shouting today\n",
            "531  sci fi convention hi asked pass might interest...\n",
            "540                         document document attached\n",
            "555  remember kaufmann jmr 48036 aim find hype info...\n",
            "871  expert time travel read einstien would say pro...\n",
            "\n",
            "Number of False Negatives: 79\n"
          ]
        }
      ]
    },
    {
      "cell_type": "code",
      "source": [
        "'''We'll create some new columns based on things phishing emails often do, like:\n",
        "\n",
        "Feature\t              Description\n",
        "email_length\t        Total number of characters\n",
        "num_exclamations\t    Number of ! characters\n",
        "num_links\t            Count of \"http\"/\"www\" keywords\n",
        "num_uppercase_words\t  Suspicious emails often YELL IN ALL CAPS\n",
        "num_special_chars\t    Weird formatting or symbols'''\n",
        "\n",
        "import numpy as np\n",
        "\n",
        "# Email length\n",
        "df['email_length'] = df['cleaned_text'].apply(len)\n",
        "\n",
        "# Number of exclamation marks\n",
        "df['num_exclamations'] = df['cleaned_text'].apply(lambda x: x.count('!'))\n",
        "\n",
        "# Count of links (simple heuristic)\n",
        "df['num_links'] = df['cleaned_text'].apply(lambda x: x.count('http') + x.count('www'))\n",
        "\n",
        "# Count of uppercase words\n",
        "df['num_uppercase_words'] = df['cleaned_text'].apply(lambda x: sum(1 for word in x.split() if word.isupper()))\n",
        "\n",
        "# Number of special characters (like $, %, etc.)\n",
        "df['num_special_chars'] = df['cleaned_text'].apply(lambda x: sum(not c.isalnum() and not c.isspace() for c in x))\n"
      ],
      "metadata": {
        "id": "psuAPcJsp4yD"
      },
      "execution_count": 16,
      "outputs": []
    },
    {
      "cell_type": "code",
      "source": [
        "from scipy.sparse import hstack\n",
        "\n",
        "# Vectorize the cleaned text again\n",
        "vectorizer = TfidfVectorizer()\n",
        "X_tfidf = vectorizer.fit_transform(df['cleaned_text'])\n",
        "\n",
        "# Grab extra features\n",
        "extra_features = df[['email_length', 'num_exclamations', 'num_links', 'num_uppercase_words', 'num_special_chars']].values\n",
        "\n",
        "# Combine sparse matrix (TF-IDF) + dense matrix (custom features)\n",
        "X_combined = hstack([X_tfidf, extra_features])\n",
        "\n",
        "# Labels\n",
        "y = df['label']\n",
        "\n",
        "# Train-test split\n",
        "from sklearn.model_selection import train_test_split\n",
        "X_train, X_test, y_train, y_test = train_test_split(X_combined, y, test_size=0.2, random_state=42)\n"
      ],
      "metadata": {
        "id": "ugFvavSzrX4J"
      },
      "execution_count": 17,
      "outputs": []
    },
    {
      "cell_type": "code",
      "source": [
        "from sklearn.feature_extraction.text import TfidfVectorizer\n",
        "from sklearn.model_selection import train_test_split\n",
        "from scipy.sparse import hstack, csr_matrix\n",
        "from sklearn.preprocessing import StandardScaler\n",
        "from sklearn.linear_model import LogisticRegression\n",
        "from sklearn.metrics import accuracy_score, classification_report\n",
        "import pandas as pd\n",
        "\n",
        "# Load your DataFrame (assuming it's already loaded as 'df')\n",
        "# If not, make sure you load it here:\n",
        "# df = pd.read_csv('your_file.csv')\n",
        "\n",
        "# 1. Vectorize the cleaned text\n",
        "vectorizer = TfidfVectorizer()\n",
        "X_tfidf = vectorizer.fit_transform(df['cleaned_text'])\n",
        "\n",
        "# Ensure X_tfidf is a sparse matrix\n",
        "X_tfidf_sparse = csr_matrix(X_tfidf)\n",
        "\n",
        "# 2. Grab extra features (make sure these column names are correct)\n",
        "extra_features = df[['email_length', 'num_exclamations', 'num_links', 'num_uppercase_words', 'num_special_chars']].values\n",
        "\n",
        "# 3. Scale the extra (dense) features\n",
        "scaler = StandardScaler()\n",
        "scaled_extra_features = scaler.fit_transform(extra_features)\n",
        "\n",
        "# 4. Combine the sparse TF-IDF features with the scaled dense features\n",
        "X_combined_scaled = hstack([X_tfidf_sparse, scaled_extra_features])\n",
        "\n",
        "# 5. Labels\n",
        "y = df['label']\n",
        "\n",
        "# 6. Split the data into training and testing sets (using the scaled combined features)\n",
        "X_train_scaled, X_test_scaled, y_train, y_test = train_test_split(\n",
        "    X_combined_scaled, y, test_size=0.2, random_state=42\n",
        ")\n",
        "\n",
        "# 7. Initialize and train the Logistic Regression model on the scaled data\n",
        "log_reg_model_scaled = LogisticRegression(max_iter=2000) # Increased max_iter\n",
        "log_reg_model_scaled.fit(X_train_scaled, y_train)\n",
        "\n",
        "# 8. Make predictions on the scaled test set\n",
        "y_pred_scaled = log_reg_model_scaled.predict(X_test_scaled)\n",
        "\n",
        "# 9. Evaluate the model\n",
        "accuracy_scaled = accuracy_score(y_test, y_pred_scaled)\n",
        "print(f\"📊 Enhanced Logistic Regression Accuracy (Scaled): {accuracy_scaled:.4f}\\n\")\n",
        "print(\"📋 Classification Report (Scaled):\")\n",
        "print(classification_report(y_test, y_pred_scaled))"
      ],
      "metadata": {
        "colab": {
          "base_uri": "https://localhost:8080/"
        },
        "id": "PYj-VYlItMSd",
        "outputId": "5bc78e38-c009-4b6d-b830-96c132bf73b4"
      },
      "execution_count": 19,
      "outputs": [
        {
          "output_type": "stream",
          "name": "stdout",
          "text": [
            "📊 Enhanced Logistic Regression Accuracy (Scaled): 0.9845\n",
            "\n",
            "📋 Classification Report (Scaled):\n",
            "              precision    recall  f1-score   support\n",
            "\n",
            "           0       0.99      0.98      0.98      7935\n",
            "           1       0.98      0.99      0.99      8563\n",
            "\n",
            "    accuracy                           0.98     16498\n",
            "   macro avg       0.98      0.98      0.98     16498\n",
            "weighted avg       0.98      0.98      0.98     16498\n",
            "\n"
          ]
        }
      ]
    },
    {
      "cell_type": "markdown",
      "source": [
        "# **Naive Bayes Model**"
      ],
      "metadata": {
        "id": "yHBVXUnTpj2r"
      }
    },
    {
      "cell_type": "code",
      "execution_count": null,
      "metadata": {
        "colab": {
          "base_uri": "https://localhost:8080/"
        },
        "id": "ChfCwgON-Daw",
        "outputId": "8167c50f-2f13-4cb5-dc36-7d62d1584880"
      },
      "outputs": [
        {
          "output_type": "stream",
          "name": "stdout",
          "text": [
            "Naive Bayes Accuracy: 0.97630015759486\n",
            "\n",
            "Classification Report:\n",
            "               precision    recall  f1-score   support\n",
            "\n",
            "           0       0.96      0.99      0.98      7935\n",
            "           1       0.99      0.96      0.98      8563\n",
            "\n",
            "    accuracy                           0.98     16498\n",
            "   macro avg       0.98      0.98      0.98     16498\n",
            "weighted avg       0.98      0.98      0.98     16498\n",
            "\n"
          ]
        }
      ],
      "source": [
        "''' Trying out with Naive-Bayes Model.\n",
        "\n",
        "Importing the MultinomialNB classifier — a Naive Bayes model often used for text classification.'''\n",
        "\n",
        "from sklearn.naive_bayes import MultinomialNB\n",
        "from sklearn.metrics import accuracy_score, classification_report\n",
        "\n",
        "# Initialize the Naive Bayes classifier\n",
        "nb_model = MultinomialNB()\n",
        "\n",
        "# Train the Naive Bayes model using the training data (X_train = features, y_train = labels)\n",
        "nb_model.fit(X_train, y_train)\n",
        "\n",
        "# Use the trained model to predict labels for the test data\n",
        "y_pred_nb = nb_model.predict(X_test)\n",
        "\n",
        "# Calculate and print the accuracy score of the Naive Bayes model\n",
        "print(\"Naive Bayes Accuracy:\", accuracy_score(y_test, y_pred_nb))\n",
        "\n",
        "# Generate and print a detailed classification report (precision, recall, f1-score) for each class\n",
        "print(\"\\nClassification Report:\\n\", classification_report(y_test, y_pred_nb))"
      ]
    },
    {
      "cell_type": "markdown",
      "source": [
        "# **Pickle to Save Vectorizer & Trained Model**"
      ],
      "metadata": {
        "id": "dkbXlHu52q2J"
      }
    },
    {
      "cell_type": "code",
      "source": [
        "import pickle\n",
        "\n",
        "# Save the vectorizer\n",
        "with open('tfidf_vectorizer.pkl', 'wb') as file:\n",
        "    pickle.dump(vectorizer, file)\n",
        "print(\"✅ TF-IDF Vectorizer saved to tfidf_vectorizer.pkl\")\n",
        "\n",
        "# Save the trained model\n",
        "with open('phishing_detector_model.pkl', 'wb') as file:\n",
        "    pickle.dump(log_reg_model_scaled, file)\n",
        "print(\"✅ Trained Logistic Regression model saved to phishing_detector_model.pkl\")"
      ],
      "metadata": {
        "colab": {
          "base_uri": "https://localhost:8080/"
        },
        "id": "oGkH9SsP1qu9",
        "outputId": "53dd9dd5-9051-4e46-e1cb-2db8d99b6691"
      },
      "execution_count": 20,
      "outputs": [
        {
          "output_type": "stream",
          "name": "stdout",
          "text": [
            "✅ TF-IDF Vectorizer saved to tfidf_vectorizer.pkl\n",
            "✅ Trained Logistic Regression model saved to phishing_detector_model.pkl\n"
          ]
        }
      ]
    }
  ],
  "metadata": {
    "colab": {
      "provenance": [],
      "authorship_tag": "ABX9TyPjy8K4MKBL93GFvso4DJ0y",
      "include_colab_link": true
    },
    "kernelspec": {
      "display_name": "Python 3",
      "name": "python3"
    },
    "language_info": {
      "name": "python"
    }
  },
  "nbformat": 4,
  "nbformat_minor": 0
}