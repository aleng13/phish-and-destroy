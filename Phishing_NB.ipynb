{
  "nbformat": 4,
  "nbformat_minor": 0,
  "metadata": {
    "colab": {
      "provenance": [],
      "authorship_tag": "ABX9TyMQWPa6Gatt/S+Xww7wdiG1",
      "include_colab_link": true
    },
    "kernelspec": {
      "name": "python3",
      "display_name": "Python 3"
    },
    "language_info": {
      "name": "python"
    }
  },
  "cells": [
    {
      "cell_type": "markdown",
      "metadata": {
        "id": "view-in-github",
        "colab_type": "text"
      },
      "source": [
        "<a href=\"https://colab.research.google.com/github/aleng13/phish-and-destroy/blob/main/Phishing_NB.ipynb\" target=\"_parent\"><img src=\"https://colab.research.google.com/assets/colab-badge.svg\" alt=\"Open In Colab\"/></a>"
      ]
    },
    {
      "cell_type": "markdown",
      "source": [
        "# **Initial Configuration**"
      ],
      "metadata": {
        "id": "4fbvsoD3sHYD"
      }
    },
    {
      "cell_type": "code",
      "execution_count": 1,
      "metadata": {
        "id": "rREamgzdrqsd"
      },
      "outputs": [],
      "source": [
        "#Install the Kaggle API client\n",
        "!pip install -q kaggle"
      ]
    },
    {
      "cell_type": "code",
      "source": [
        "#Move the kaggle.json file to the correct directory\n",
        "!mkdir -p ~/.kaggle\n",
        "!mv kaggle.json ~/.kaggle/\n",
        "!chmod 600 ~/.kaggle/kaggle.json"
      ],
      "metadata": {
        "id": "qSSRUbD9sLMh"
      },
      "execution_count": 2,
      "outputs": []
    },
    {
      "cell_type": "code",
      "source": [
        "#You can download the dataset directly. In a new code cell, run\n",
        "!kaggle datasets download naserabdullahalam/phishing-email-dataset"
      ],
      "metadata": {
        "colab": {
          "base_uri": "https://localhost:8080/"
        },
        "id": "61pQsAdosM0u",
        "outputId": "bbfa6ce4-8970-456a-b07a-4d00992f6a7b"
      },
      "execution_count": 3,
      "outputs": [
        {
          "output_type": "stream",
          "name": "stdout",
          "text": [
            "Dataset URL: https://www.kaggle.com/datasets/naserabdullahalam/phishing-email-dataset\n",
            "License(s): CC-BY-SA-4.0\n",
            "Downloading phishing-email-dataset.zip to /content\n",
            " 74% 57.0M/77.1M [00:00<00:00, 588MB/s]\n",
            "100% 77.1M/77.1M [00:00<00:00, 599MB/s]\n"
          ]
        }
      ]
    },
    {
      "cell_type": "code",
      "source": [
        "#To access the CSV file, you need to unzip the downloaded file\n",
        "!unzip phishing-email-dataset.zip"
      ],
      "metadata": {
        "colab": {
          "base_uri": "https://localhost:8080/"
        },
        "id": "2d4focMmsPv8",
        "outputId": "38bb0e74-dfcd-4c8d-dc4a-3110b1c61d39"
      },
      "execution_count": 4,
      "outputs": [
        {
          "output_type": "stream",
          "name": "stdout",
          "text": [
            "Archive:  phishing-email-dataset.zip\n",
            "  inflating: CEAS_08.csv             \n",
            "  inflating: Enron.csv               \n",
            "  inflating: Ling.csv                \n",
            "  inflating: Nazario.csv             \n",
            "  inflating: Nigerian_Fraud.csv      \n",
            "  inflating: SpamAssasin.csv         \n",
            "  inflating: phishing_email.csv      \n"
          ]
        }
      ]
    },
    {
      "cell_type": "code",
      "source": [
        "import pandas as pd\n",
        "\n",
        "df = pd.read_csv('phishing_email.csv')\n",
        "\n",
        "# You can now inspect the first few rows of the DataFrame\n",
        "print(df.head())"
      ],
      "metadata": {
        "colab": {
          "base_uri": "https://localhost:8080/"
        },
        "id": "I_OSUJD3sRxC",
        "outputId": "d6829971-19b8-43c5-aac4-d0cc72a3a959"
      },
      "execution_count": 5,
      "outputs": [
        {
          "output_type": "stream",
          "name": "stdout",
          "text": [
            "                                       text_combined  label\n",
            "0  hpl nom may 25 2001 see attached file hplno 52...      0\n",
            "1  nom actual vols 24 th forwarded sabrae zajac h...      0\n",
            "2  enron actuals march 30 april 1 201 estimated a...      0\n",
            "3  hpl nom may 30 2001 see attached file hplno 53...      0\n",
            "4  hpl nom june 1 2001 see attached file hplno 60...      0\n"
          ]
        }
      ]
    },
    {
      "cell_type": "markdown",
      "source": [
        "# **Preprocessing the Dataset**"
      ],
      "metadata": {
        "id": "nx0jjPaHsSfu"
      }
    },
    {
      "cell_type": "code",
      "source": [
        "'''Preprocessing Steps:\n",
        "Lowercase the text\n",
        "\n",
        "Remove punctuation\n",
        "\n",
        "Remove stopwords (like “the”, “and”, etc.)\n",
        "\n",
        "Optional: remove numbers\n",
        "\n",
        "Tokenize and join the cleaned words back to text'''\n",
        "\n",
        "import re\n",
        "import pandas as pd\n",
        "import nltk\n",
        "import string\n",
        "from nltk.corpus import stopwords\n",
        "\n",
        "df = pd.read_csv('phishing_email.csv')\n",
        "\n",
        "# Download stopwords (only first time)\n",
        "nltk.download('stopwords')\n",
        "\n",
        "# Get English stopwords\n",
        "stop_words = set(stopwords.words('english'))\n",
        "\n",
        "# Define a text cleaning function\n",
        "def clean_text(text):\n",
        "    # Lowercase\n",
        "    text = text.lower()\n",
        "\n",
        "    # Remove URLs\n",
        "    text = re.sub(r'http\\S+|www\\S+|https\\S+', '', text)\n",
        "\n",
        "    # Remove punctuation\n",
        "    text = text.translate(str.maketrans('', '', string.punctuation))\n",
        "\n",
        "    # Remove numbers\n",
        "    text = re.sub(r'\\d+', '', text)\n",
        "\n",
        "    # Tokenize and remove stopwords\n",
        "    words = text.split()\n",
        "    words = [word for word in words if word not in stop_words]\n",
        "\n",
        "    # Rejoin text\n",
        "    cleaned_text = ' '.join(words)\n",
        "    return cleaned_text\n",
        "\n",
        "# Apply the cleaning function to your email text column\n",
        "df['cleaned_text'] = df['text_combined'].apply(clean_text)\n",
        "\n",
        "# Preview cleaned text\n",
        "df[['text_combined', 'cleaned_text']].head()\n"
      ],
      "metadata": {
        "colab": {
          "base_uri": "https://localhost:8080/",
          "height": 241
        },
        "id": "fIPm7Q7lsYl6",
        "outputId": "1e75cb32-1692-41ab-dcfd-0171f175eb79"
      },
      "execution_count": 6,
      "outputs": [
        {
          "output_type": "stream",
          "name": "stderr",
          "text": [
            "[nltk_data] Downloading package stopwords to /root/nltk_data...\n",
            "[nltk_data]   Unzipping corpora/stopwords.zip.\n"
          ]
        },
        {
          "output_type": "execute_result",
          "data": {
            "text/plain": [
              "                                       text_combined  \\\n",
              "0  hpl nom may 25 2001 see attached file hplno 52...   \n",
              "1  nom actual vols 24 th forwarded sabrae zajac h...   \n",
              "2  enron actuals march 30 april 1 201 estimated a...   \n",
              "3  hpl nom may 30 2001 see attached file hplno 53...   \n",
              "4  hpl nom june 1 2001 see attached file hplno 60...   \n",
              "\n",
              "                                        cleaned_text  \n",
              "0  hpl nom may see attached file hplno xls hplno xls  \n",
              "1  nom actual vols th forwarded sabrae zajac hou ...  \n",
              "2  enron actuals march april estimated actuals ma...  \n",
              "3  hpl nom may see attached file hplno xls hplno xls  \n",
              "4  hpl nom june see attached file hplno xls hplno...  "
            ],
            "text/html": [
              "\n",
              "  <div id=\"df-904e6e84-93b5-4e87-b676-9b47d5b6834a\" class=\"colab-df-container\">\n",
              "    <div>\n",
              "<style scoped>\n",
              "    .dataframe tbody tr th:only-of-type {\n",
              "        vertical-align: middle;\n",
              "    }\n",
              "\n",
              "    .dataframe tbody tr th {\n",
              "        vertical-align: top;\n",
              "    }\n",
              "\n",
              "    .dataframe thead th {\n",
              "        text-align: right;\n",
              "    }\n",
              "</style>\n",
              "<table border=\"1\" class=\"dataframe\">\n",
              "  <thead>\n",
              "    <tr style=\"text-align: right;\">\n",
              "      <th></th>\n",
              "      <th>text_combined</th>\n",
              "      <th>cleaned_text</th>\n",
              "    </tr>\n",
              "  </thead>\n",
              "  <tbody>\n",
              "    <tr>\n",
              "      <th>0</th>\n",
              "      <td>hpl nom may 25 2001 see attached file hplno 52...</td>\n",
              "      <td>hpl nom may see attached file hplno xls hplno xls</td>\n",
              "    </tr>\n",
              "    <tr>\n",
              "      <th>1</th>\n",
              "      <td>nom actual vols 24 th forwarded sabrae zajac h...</td>\n",
              "      <td>nom actual vols th forwarded sabrae zajac hou ...</td>\n",
              "    </tr>\n",
              "    <tr>\n",
              "      <th>2</th>\n",
              "      <td>enron actuals march 30 april 1 201 estimated a...</td>\n",
              "      <td>enron actuals march april estimated actuals ma...</td>\n",
              "    </tr>\n",
              "    <tr>\n",
              "      <th>3</th>\n",
              "      <td>hpl nom may 30 2001 see attached file hplno 53...</td>\n",
              "      <td>hpl nom may see attached file hplno xls hplno xls</td>\n",
              "    </tr>\n",
              "    <tr>\n",
              "      <th>4</th>\n",
              "      <td>hpl nom june 1 2001 see attached file hplno 60...</td>\n",
              "      <td>hpl nom june see attached file hplno xls hplno...</td>\n",
              "    </tr>\n",
              "  </tbody>\n",
              "</table>\n",
              "</div>\n",
              "    <div class=\"colab-df-buttons\">\n",
              "\n",
              "  <div class=\"colab-df-container\">\n",
              "    <button class=\"colab-df-convert\" onclick=\"convertToInteractive('df-904e6e84-93b5-4e87-b676-9b47d5b6834a')\"\n",
              "            title=\"Convert this dataframe to an interactive table.\"\n",
              "            style=\"display:none;\">\n",
              "\n",
              "  <svg xmlns=\"http://www.w3.org/2000/svg\" height=\"24px\" viewBox=\"0 -960 960 960\">\n",
              "    <path d=\"M120-120v-720h720v720H120Zm60-500h600v-160H180v160Zm220 220h160v-160H400v160Zm0 220h160v-160H400v160ZM180-400h160v-160H180v160Zm440 0h160v-160H620v160ZM180-180h160v-160H180v160Zm440 0h160v-160H620v160Z\"/>\n",
              "  </svg>\n",
              "    </button>\n",
              "\n",
              "  <style>\n",
              "    .colab-df-container {\n",
              "      display:flex;\n",
              "      gap: 12px;\n",
              "    }\n",
              "\n",
              "    .colab-df-convert {\n",
              "      background-color: #E8F0FE;\n",
              "      border: none;\n",
              "      border-radius: 50%;\n",
              "      cursor: pointer;\n",
              "      display: none;\n",
              "      fill: #1967D2;\n",
              "      height: 32px;\n",
              "      padding: 0 0 0 0;\n",
              "      width: 32px;\n",
              "    }\n",
              "\n",
              "    .colab-df-convert:hover {\n",
              "      background-color: #E2EBFA;\n",
              "      box-shadow: 0px 1px 2px rgba(60, 64, 67, 0.3), 0px 1px 3px 1px rgba(60, 64, 67, 0.15);\n",
              "      fill: #174EA6;\n",
              "    }\n",
              "\n",
              "    .colab-df-buttons div {\n",
              "      margin-bottom: 4px;\n",
              "    }\n",
              "\n",
              "    [theme=dark] .colab-df-convert {\n",
              "      background-color: #3B4455;\n",
              "      fill: #D2E3FC;\n",
              "    }\n",
              "\n",
              "    [theme=dark] .colab-df-convert:hover {\n",
              "      background-color: #434B5C;\n",
              "      box-shadow: 0px 1px 3px 1px rgba(0, 0, 0, 0.15);\n",
              "      filter: drop-shadow(0px 1px 2px rgba(0, 0, 0, 0.3));\n",
              "      fill: #FFFFFF;\n",
              "    }\n",
              "  </style>\n",
              "\n",
              "    <script>\n",
              "      const buttonEl =\n",
              "        document.querySelector('#df-904e6e84-93b5-4e87-b676-9b47d5b6834a button.colab-df-convert');\n",
              "      buttonEl.style.display =\n",
              "        google.colab.kernel.accessAllowed ? 'block' : 'none';\n",
              "\n",
              "      async function convertToInteractive(key) {\n",
              "        const element = document.querySelector('#df-904e6e84-93b5-4e87-b676-9b47d5b6834a');\n",
              "        const dataTable =\n",
              "          await google.colab.kernel.invokeFunction('convertToInteractive',\n",
              "                                                    [key], {});\n",
              "        if (!dataTable) return;\n",
              "\n",
              "        const docLinkHtml = 'Like what you see? Visit the ' +\n",
              "          '<a target=\"_blank\" href=https://colab.research.google.com/notebooks/data_table.ipynb>data table notebook</a>'\n",
              "          + ' to learn more about interactive tables.';\n",
              "        element.innerHTML = '';\n",
              "        dataTable['output_type'] = 'display_data';\n",
              "        await google.colab.output.renderOutput(dataTable, element);\n",
              "        const docLink = document.createElement('div');\n",
              "        docLink.innerHTML = docLinkHtml;\n",
              "        element.appendChild(docLink);\n",
              "      }\n",
              "    </script>\n",
              "  </div>\n",
              "\n",
              "\n",
              "    <div id=\"df-a01233f7-cf91-4a93-a2e0-fe9bd1dc5eaf\">\n",
              "      <button class=\"colab-df-quickchart\" onclick=\"quickchart('df-a01233f7-cf91-4a93-a2e0-fe9bd1dc5eaf')\"\n",
              "                title=\"Suggest charts\"\n",
              "                style=\"display:none;\">\n",
              "\n",
              "<svg xmlns=\"http://www.w3.org/2000/svg\" height=\"24px\"viewBox=\"0 0 24 24\"\n",
              "     width=\"24px\">\n",
              "    <g>\n",
              "        <path d=\"M19 3H5c-1.1 0-2 .9-2 2v14c0 1.1.9 2 2 2h14c1.1 0 2-.9 2-2V5c0-1.1-.9-2-2-2zM9 17H7v-7h2v7zm4 0h-2V7h2v10zm4 0h-2v-4h2v4z\"/>\n",
              "    </g>\n",
              "</svg>\n",
              "      </button>\n",
              "\n",
              "<style>\n",
              "  .colab-df-quickchart {\n",
              "      --bg-color: #E8F0FE;\n",
              "      --fill-color: #1967D2;\n",
              "      --hover-bg-color: #E2EBFA;\n",
              "      --hover-fill-color: #174EA6;\n",
              "      --disabled-fill-color: #AAA;\n",
              "      --disabled-bg-color: #DDD;\n",
              "  }\n",
              "\n",
              "  [theme=dark] .colab-df-quickchart {\n",
              "      --bg-color: #3B4455;\n",
              "      --fill-color: #D2E3FC;\n",
              "      --hover-bg-color: #434B5C;\n",
              "      --hover-fill-color: #FFFFFF;\n",
              "      --disabled-bg-color: #3B4455;\n",
              "      --disabled-fill-color: #666;\n",
              "  }\n",
              "\n",
              "  .colab-df-quickchart {\n",
              "    background-color: var(--bg-color);\n",
              "    border: none;\n",
              "    border-radius: 50%;\n",
              "    cursor: pointer;\n",
              "    display: none;\n",
              "    fill: var(--fill-color);\n",
              "    height: 32px;\n",
              "    padding: 0;\n",
              "    width: 32px;\n",
              "  }\n",
              "\n",
              "  .colab-df-quickchart:hover {\n",
              "    background-color: var(--hover-bg-color);\n",
              "    box-shadow: 0 1px 2px rgba(60, 64, 67, 0.3), 0 1px 3px 1px rgba(60, 64, 67, 0.15);\n",
              "    fill: var(--button-hover-fill-color);\n",
              "  }\n",
              "\n",
              "  .colab-df-quickchart-complete:disabled,\n",
              "  .colab-df-quickchart-complete:disabled:hover {\n",
              "    background-color: var(--disabled-bg-color);\n",
              "    fill: var(--disabled-fill-color);\n",
              "    box-shadow: none;\n",
              "  }\n",
              "\n",
              "  .colab-df-spinner {\n",
              "    border: 2px solid var(--fill-color);\n",
              "    border-color: transparent;\n",
              "    border-bottom-color: var(--fill-color);\n",
              "    animation:\n",
              "      spin 1s steps(1) infinite;\n",
              "  }\n",
              "\n",
              "  @keyframes spin {\n",
              "    0% {\n",
              "      border-color: transparent;\n",
              "      border-bottom-color: var(--fill-color);\n",
              "      border-left-color: var(--fill-color);\n",
              "    }\n",
              "    20% {\n",
              "      border-color: transparent;\n",
              "      border-left-color: var(--fill-color);\n",
              "      border-top-color: var(--fill-color);\n",
              "    }\n",
              "    30% {\n",
              "      border-color: transparent;\n",
              "      border-left-color: var(--fill-color);\n",
              "      border-top-color: var(--fill-color);\n",
              "      border-right-color: var(--fill-color);\n",
              "    }\n",
              "    40% {\n",
              "      border-color: transparent;\n",
              "      border-right-color: var(--fill-color);\n",
              "      border-top-color: var(--fill-color);\n",
              "    }\n",
              "    60% {\n",
              "      border-color: transparent;\n",
              "      border-right-color: var(--fill-color);\n",
              "    }\n",
              "    80% {\n",
              "      border-color: transparent;\n",
              "      border-right-color: var(--fill-color);\n",
              "      border-bottom-color: var(--fill-color);\n",
              "    }\n",
              "    90% {\n",
              "      border-color: transparent;\n",
              "      border-bottom-color: var(--fill-color);\n",
              "    }\n",
              "  }\n",
              "</style>\n",
              "\n",
              "      <script>\n",
              "        async function quickchart(key) {\n",
              "          const quickchartButtonEl =\n",
              "            document.querySelector('#' + key + ' button');\n",
              "          quickchartButtonEl.disabled = true;  // To prevent multiple clicks.\n",
              "          quickchartButtonEl.classList.add('colab-df-spinner');\n",
              "          try {\n",
              "            const charts = await google.colab.kernel.invokeFunction(\n",
              "                'suggestCharts', [key], {});\n",
              "          } catch (error) {\n",
              "            console.error('Error during call to suggestCharts:', error);\n",
              "          }\n",
              "          quickchartButtonEl.classList.remove('colab-df-spinner');\n",
              "          quickchartButtonEl.classList.add('colab-df-quickchart-complete');\n",
              "        }\n",
              "        (() => {\n",
              "          let quickchartButtonEl =\n",
              "            document.querySelector('#df-a01233f7-cf91-4a93-a2e0-fe9bd1dc5eaf button');\n",
              "          quickchartButtonEl.style.display =\n",
              "            google.colab.kernel.accessAllowed ? 'block' : 'none';\n",
              "        })();\n",
              "      </script>\n",
              "    </div>\n",
              "\n",
              "    </div>\n",
              "  </div>\n"
            ],
            "application/vnd.google.colaboratory.intrinsic+json": {
              "type": "dataframe",
              "summary": "{\n  \"name\": \"df[['text_combined', 'cleaned_text']]\",\n  \"rows\": 5,\n  \"fields\": [\n    {\n      \"column\": \"text_combined\",\n      \"properties\": {\n        \"dtype\": \"string\",\n        \"num_unique_values\": 5,\n        \"samples\": [\n          \"nom actual vols 24 th forwarded sabrae zajac hou ect 05 30 2001 12 07 pm enron capital trade resources corp eileen ponton 05 29 2001 08 37 davilal txu com cstonel txu com mjones 7 txu com hpl scheduling enron com liz bellamy enron com szajac enron com cc subject nom actual vols 24 th agree nomination 33 750 forwarded eileen ponton houston pefs pec 05 29 01 08 36 charlie stone eileen ponton melissa jones com hpl scheduling enron com liz bellamy enron com szajac enron com 05 25 01 subject nom actual vols 24 th 04 23 pm agree nominated volume records reflect following nom schedule 30 rate eff 0900 hrs hour beginning 1400 hrs 6 250 60 rate eff 1400 hrs hour beginning 1700 hrs 7 500 30 rate eff 1700 hrs hour beginning 0900 hrs 20 000 total nominated 33 750 please review source data let us know agree thanks ccs eileen ponton 05 25 2001 04 06 50 pm david avila lsp enserch us tu charlie stone energy txu tu melissa jones energy txu tu hpl scheduling enron com liz bellamy enron com szajac enron com cc subject nom actual vols 24 th nom mcf mmbtu 27 500 33 109 34 003\",\n          \"hpl nom june 1 2001 see attached file hplno 601 xls hplno 601 xls\",\n          \"enron actuals march 30 april 1 201 estimated actuals march 30 2001 flow march 31 2001 flow april 1 2001 teco tap 35 000 receive actuals duke forward\"\n        ],\n        \"semantic_type\": \"\",\n        \"description\": \"\"\n      }\n    },\n    {\n      \"column\": \"cleaned_text\",\n      \"properties\": {\n        \"dtype\": \"string\",\n        \"num_unique_values\": 4,\n        \"samples\": [\n          \"nom actual vols th forwarded sabrae zajac hou ect pm enron capital trade resources corp eileen ponton davilal txu com cstonel txu com mjones txu com hpl scheduling enron com liz bellamy enron com szajac enron com cc subject nom actual vols th agree nomination forwarded eileen ponton houston pefs pec charlie stone eileen ponton melissa jones com hpl scheduling enron com liz bellamy enron com szajac enron com subject nom actual vols th pm agree nominated volume records reflect following nom schedule rate eff hrs hour beginning hrs rate eff hrs hour beginning hrs rate eff hrs hour beginning hrs total nominated please review source data let us know agree thanks ccs eileen ponton pm david avila lsp enserch us tu charlie stone energy txu tu melissa jones energy txu tu hpl scheduling enron com liz bellamy enron com szajac enron com cc subject nom actual vols th nom mcf mmbtu\",\n          \"hpl nom june see attached file hplno xls hplno xls\",\n          \"hpl nom may see attached file hplno xls hplno xls\"\n        ],\n        \"semantic_type\": \"\",\n        \"description\": \"\"\n      }\n    }\n  ]\n}"
            }
          },
          "metadata": {},
          "execution_count": 6
        }
      ]
    },
    {
      "cell_type": "markdown",
      "source": [
        "# **Vectorizing the Dataset**"
      ],
      "metadata": {
        "id": "qD0zQ3dIsevN"
      }
    },
    {
      "cell_type": "code",
      "source": [
        "''' Cleaned email text into a machine brain — but since machines don’t understand plain English, we need to vectorize it first.\n",
        "TfidfVectorizer() → turns text into a matrix of numbers.\n",
        "\n",
        "fit_transform() → learns vocab and transforms the cleaned text.\n",
        "\n",
        "train_test_split() → splits the data: 80% to train, 20% to test our model later.'''\n",
        "\n",
        "from sklearn.feature_extraction.text import TfidfVectorizer\n",
        "from sklearn.model_selection import train_test_split\n",
        "\n",
        "# Define the vectorizer\n",
        "vectorizer = TfidfVectorizer()\n",
        "\n",
        "# Fit and transform the cleaned text\n",
        "X = vectorizer.fit_transform(df['cleaned_text'])\n",
        "\n",
        "# Target labels (0 for safe, 1 for phishing)\n",
        "y = df['label']\n",
        "\n",
        "# Split into train and test sets (80% train, 20% test)\n",
        "X_train, X_test, y_train, y_test = train_test_split(X, y, test_size=0.2, random_state=42)\n",
        "\n",
        "print(\"Shape of training data:\", X_train.shape)\n",
        "print(\"Shape of test data:\", X_test.shape)\n"
      ],
      "metadata": {
        "colab": {
          "base_uri": "https://localhost:8080/"
        },
        "id": "J1ni609-sdwx",
        "outputId": "f801e238-4bc5-462e-8fac-c278e823f2e8"
      },
      "execution_count": 7,
      "outputs": [
        {
          "output_type": "stream",
          "name": "stdout",
          "text": [
            "Shape of training data: (65988, 460787)\n",
            "Shape of test data: (16498, 460787)\n"
          ]
        }
      ]
    },
    {
      "cell_type": "markdown",
      "source": [
        "# **Naive-Bayes Model**"
      ],
      "metadata": {
        "id": "C1ishCtxsnE9"
      }
    },
    {
      "cell_type": "code",
      "source": [
        "''' Trying out with Naive-Bayes Model.\n",
        "\n",
        "Importing the MultinomialNB classifier — a Naive Bayes model often used for text classification.'''\n",
        "\n",
        "from sklearn.naive_bayes import MultinomialNB\n",
        "from sklearn.metrics import confusion_matrix, ConfusionMatrixDisplay\n",
        "import matplotlib.pyplot as plt\n",
        "\n",
        "# Step 1: Train Naive Bayes on updated dataset\n",
        "nb_model = MultinomialNB()\n",
        "nb_model.fit(X_train, y_train)\n",
        "\n",
        "# Step 2: Predict on test data\n",
        "y_pred = nb_model.predict(X_test)\n",
        "\n",
        "# Step 3: Generate confusion matrix\n",
        "cm = confusion_matrix(y_test, y_pred)\n",
        "\n",
        "# Calculate and print the accuracy score of the Naive Bayes model\n",
        "print(\"Naive Bayes Accuracy:\", accuracy_score(y_test, y_pred_nb))\n",
        "\n",
        "# Generate and print a detailed classification report (precision, recall, f1-score) for each class\n",
        "print(\"\\nClassification Report:\\n\", classification_report(y_test, y_pred_nb))\n",
        "\n",
        "# Step 4: Display it\n",
        "disp = ConfusionMatrixDisplay(confusion_matrix=cm, display_labels=['Legit (0)', 'Phishing (1)'])\n",
        "disp.plot(cmap='Blues', values_format='d')\n",
        "plt.title(\"Confusion Matrix - Naive Bayes\")\n",
        "plt.grid(False)\n",
        "plt.show()\n"
      ],
      "metadata": {
        "colab": {
          "base_uri": "https://localhost:8080/",
          "height": 680
        },
        "id": "Jq7Zd7XGtWIJ",
        "outputId": "1ed3369e-7ef6-47d7-9f0e-23ad11b6a73f"
      },
      "execution_count": 12,
      "outputs": [
        {
          "output_type": "stream",
          "name": "stdout",
          "text": [
            "Naive Bayes Accuracy: 0.97630015759486\n",
            "\n",
            "Classification Report:\n",
            "               precision    recall  f1-score   support\n",
            "\n",
            "           0       0.96      0.99      0.98      7935\n",
            "           1       0.99      0.96      0.98      8563\n",
            "\n",
            "    accuracy                           0.98     16498\n",
            "   macro avg       0.98      0.98      0.98     16498\n",
            "weighted avg       0.98      0.98      0.98     16498\n",
            "\n"
          ]
        },
        {
          "output_type": "display_data",
          "data": {
            "text/plain": [
              "<Figure size 640x480 with 2 Axes>"
            ],
            "image/png": "[encoded data removed]"
          },
          "metadata": {}
        }
      ]
    },
    {
      "cell_type": "markdown",
      "source": [
        "# **Trying to Improve the Accuracy**"
      ],
      "metadata": {
        "id": "AebpOcEGta2_"
      }
    },
    {
      "cell_type": "code",
      "source": [
        "import pandas as pd\n",
        "\n",
        "# Step 1: Combine y_test and y_pred into a DataFrame\n",
        "predictions_df = pd.DataFrame({\n",
        "    'actual': y_test.values,         # Convert to NumPy array if it's a Series\n",
        "    'predicted': y_pred\n",
        "})\n",
        "\n",
        "# Step 2: Get original text rows from df using test indices\n",
        "test_indices = y_test.index\n",
        "test_df = df.loc[test_indices].copy()  # Avoid SettingWithCopyWarning\n",
        "\n",
        "# Step 3: Combine with predictions\n",
        "misclassified_df = pd.concat([\n",
        "    test_df.reset_index(drop=True),\n",
        "    predictions_df.reset_index(drop=True)\n",
        "], axis=1)\n",
        "\n",
        "# Step 4: Analyze False Positives\n",
        "false_positives_df = misclassified_df[\n",
        "    (misclassified_df['actual'] == 0) & (misclassified_df['predicted'] == 1)\n",
        "]\n",
        "print(\"\\n🔴 False Positives (Legitimate emails predicted as Phishing):\")\n",
        "print(false_positives_df[['text_combined']].head())\n",
        "print(f\"Total False Positives: {len(false_positives_df)}\")\n",
        "\n",
        "# Step 5: Analyze False Negatives\n",
        "false_negatives_df = misclassified_df[\n",
        "    (misclassified_df['actual'] == 1) & (misclassified_df['predicted'] == 0)\n",
        "]\n",
        "print(\"\\n⚠️ False Negatives (Phishing emails predicted as Legitimate):\")\n",
        "print(false_negatives_df[['text_combined']].head())\n",
        "print(f\"Total False Negatives: {len(false_negatives_df)}\")\n"
      ],
      "metadata": {
        "colab": {
          "base_uri": "https://localhost:8080/"
        },
        "id": "h-LZB116tak9",
        "outputId": "da0635c1-f07d-4f00-dedf-1d1b5fa5ea54"
      },
      "execution_count": 13,
      "outputs": [
        {
          "output_type": "stream",
          "name": "stdout",
          "text": [
            "\n",
            "🔴 False Positives (Legitimate emails predicted as Phishing):\n",
            "                                          text_combined\n",
            "358   joyful abcusa88hotmailcom multipart message mi...\n",
            "944   howstuffworks newsletterhowstuffworkscom httpf...\n",
            "1298  payroll distribution notice delay experienced ...\n",
            "1755  american red cross pykdjcdlfjozzusaredcrossorg...\n",
            "2142  shelden mezzplynlegruiadmezzp5leadcrmcom hi te...\n",
            "Total False Positives: 85\n",
            "\n",
            "⚠️ False Negatives (Phishing emails predicted as Legitimate):\n",
            "                                         text_combined\n",
            "1    claretta claretta_bordersfusemailcom cialis wo...\n",
            "14   terry kraft intelligibilityr838jishimvcom love...\n",
            "70   hi protect part reach noon sleep tail many sil...\n",
            "124  404 plan wednesday 12 00 years experlence pass...\n",
            "153    tried calling last night missing shouting today\n",
            "Total False Negatives: 306\n"
          ]
        }
      ]
    },
    {
      "cell_type": "code",
      "source": [
        "import pandas as pd\n",
        "import numpy as np\n",
        "from sklearn.model_selection import train_test_split\n",
        "from sklearn.feature_extraction.text import TfidfVectorizer\n",
        "from sklearn.compose import ColumnTransformer\n",
        "from sklearn.pipeline import Pipeline\n",
        "from sklearn.linear_model import LogisticRegression\n",
        "from sklearn.preprocessing import StandardScaler\n",
        "from sklearn.metrics import classification_report, confusion_matrix, ConfusionMatrixDisplay\n",
        "import matplotlib.pyplot as plt\n",
        "\n",
        "# ----------------------------------\n",
        "# 🧠 1. Feature Engineering\n",
        "# ----------------------------------\n",
        "# Add new features\n",
        "df['email_length'] = df['cleaned_text'].apply(len)\n",
        "df['num_exclamations'] = df['cleaned_text'].apply(lambda x: x.count('!'))\n",
        "df['num_links'] = df['cleaned_text'].apply(lambda x: x.count('http') + x.count('www'))\n",
        "df['num_uppercase_words'] = df['cleaned_text'].apply(lambda x: sum(1 for word in x.split() if word.isupper()))\n",
        "df['num_special_chars'] = df['cleaned_text'].apply(lambda x: sum(not c.isalnum() and not c.isspace() for c in x))\n",
        "\n",
        "# ----------------------------------\n",
        "# 🧪 2. Split Data\n",
        "# ----------------------------------\n",
        "text_feature = 'cleaned_text'\n",
        "numeric_features = ['email_length', 'num_exclamations', 'num_links', 'num_uppercase_words', 'num_special_chars']\n",
        "\n",
        "X = df[[text_feature] + numeric_features]\n",
        "y = df['label']\n",
        "\n",
        "X_train, X_test, y_train, y_test = train_test_split(X, y, test_size=0.2, random_state=42)\n",
        "\n",
        "# ----------------------------------\n",
        "# 🛠️ 3. Create Preprocessor & Pipeline\n",
        "# ----------------------------------\n",
        "preprocessor = ColumnTransformer(\n",
        "    transformers=[\n",
        "        ('tfidf', TfidfVectorizer(), 'cleaned_text'),\n",
        "        ('num', StandardScaler(), numeric_features)\n",
        "    ]\n",
        ")\n",
        "\n",
        "pipeline = Pipeline([\n",
        "    ('preprocess', preprocessor),\n",
        "    ('clf', LogisticRegression(max_iter=1000))\n",
        "])\n",
        "\n",
        "# ----------------------------------\n",
        "# 🚂 4. Train Model\n",
        "# ----------------------------------\n",
        "pipeline.fit(X_train, y_train)\n",
        "\n",
        "# ----------------------------------\n",
        "# 📈 5. Evaluate Model\n",
        "# ----------------------------------\n",
        "y_pred = pipeline.predict(X_test)\n",
        "\n",
        "print(\"\\n📋 Classification Report:\\n\")\n",
        "print(classification_report(y_test, y_pred))\n",
        "\n",
        "# ----------------------------------\n",
        "# 🔲 6. Confusion Matrix\n",
        "# ----------------------------------\n",
        "cm = confusion_matrix(y_test, y_pred)\n",
        "disp = ConfusionMatrixDisplay(confusion_matrix=cm, display_labels=['Legit', 'Phish'])\n",
        "disp.plot(cmap='Blues')\n",
        "plt.title(\"Confusion Matrix\")\n",
        "plt.show()\n",
        "\n",
        "# ----------------------------------\n",
        "# 🕵️ 7. Misclassified Emails\n",
        "# ----------------------------------\n",
        "# Create a DataFrame of predictions\n",
        "predictions_df = pd.DataFrame({'actual': y_test, 'predicted': y_pred}, index=y_test.index)\n",
        "\n",
        "# Reattach original email text\n",
        "test_df = df.loc[y_test.index]\n",
        "misclassified_df = pd.concat([test_df.reset_index(drop=True), predictions_df.reset_index(drop=True)], axis=1)\n",
        "\n",
        "# False Positives\n",
        "false_positives_df = misclassified_df[(misclassified_df['actual'] == 0) & (misclassified_df['predicted'] == 1)]\n",
        "print(\"\\n🔴 False Positives (Legitimate emails predicted as Phishing):\")\n",
        "print(false_positives_df[['text_combined']].head())\n",
        "print(f\"Total False Positives: {len(false_positives_df)}\")\n",
        "\n",
        "# False Negatives\n",
        "false_negatives_df = misclassified_df[(misclassified_df['actual'] == 1) & (misclassified_df['predicted'] == 0)]\n",
        "print(\"\\n⚠️ False Negatives (Phishing emails predicted as Legitimate):\")\n",
        "print(false_negatives_df[['text_combined']].head())\n",
        "print(f\"Total False Negatives: {len(false_negatives_df)}\")\n"
      ],
      "metadata": {
        "colab": {
          "base_uri": "https://localhost:8080/",
          "height": 993
        },
        "id": "S-b-Exl5txNK",
        "outputId": "9e7425e8-a8da-4d57-d567-1c7539767339"
      },
      "execution_count": 15,
      "outputs": [
        {
          "output_type": "stream",
          "name": "stdout",
          "text": [
            "\n",
            "📋 Classification Report:\n",
            "\n",
            "              precision    recall  f1-score   support\n",
            "\n",
            "           0       0.99      0.98      0.98      7935\n",
            "           1       0.98      0.99      0.98      8563\n",
            "\n",
            "    accuracy                           0.98     16498\n",
            "   macro avg       0.98      0.98      0.98     16498\n",
            "weighted avg       0.98      0.98      0.98     16498\n",
            "\n"
          ]
        },
        {
          "output_type": "display_data",
          "data": {
            "text/plain": [
              "<Figure size 640x480 with 2 Axes>"
            ],
            "image/png": "[encoded data removed]"
          },
          "metadata": {}
        },
        {
          "output_type": "stream",
          "name": "stdout",
          "text": [
            "\n",
            "🔴 False Positives (Legitimate emails predicted as Phishing):\n",
            "                                         text_combined\n",
            "48   mail delivery system auixdvasxzygmho02bosmailh...\n",
            "120  playgroup pictures houston cow parade easy uns...\n",
            "129  semantics il dominio tempoaspettuale il domini...\n",
            "260  hours contact information lisa maillet contact...\n",
            "313  fedmarket uiaregifedmarketcom federal sales tr...\n",
            "Total False Positives: 165\n",
            "\n",
            "⚠️ False Negatives (Phishing emails predicted as Legitimate):\n",
            "                                         text_combined\n",
            "1    claretta claretta_bordersfusemailcom cialis wo...\n",
            "124  404 plan wednesday 12 00 years experlence pass...\n",
            "153    tried calling last night missing shouting today\n",
            "490  via gra pro get hard consumption already saw n...\n",
            "531  sci fi convention hi asked pass might interest...\n",
            "Total False Negatives: 93\n"
          ]
        }
      ]
    },
    {
      "cell_type": "code",
      "source": [
        "import joblib\n",
        "\n",
        "# Save the entire pipeline\n",
        "joblib.dump(pipeline, 'Naive_Bayes_Model.pkl')\n"
      ],
      "metadata": {
        "colab": {
          "base_uri": "https://localhost:8080/"
        },
        "id": "3n_zjuiE3uHl",
        "outputId": "92a4d2b5-06b8-4841-a8a2-5d59facff04f"
      },
      "execution_count": 17,
      "outputs": [
        {
          "output_type": "execute_result",
          "data": {
            "text/plain": [
              "['Naive_Bayes_Model.pkl']"
            ]
          },
          "metadata": {},
          "execution_count": 17
        }
      ]
    }
  ]
}